{
 "cells": [
  {
   "cell_type": "code",
   "execution_count": 1,
   "metadata": {},
   "outputs": [],
   "source": [
    "from pandas_datareader import data as pdr\n",
    "\n",
    "import fix_yahoo_finance as yf"
   ]
  },
  {
   "cell_type": "code",
   "execution_count": 10,
   "metadata": {},
   "outputs": [
    {
     "name": "stdout",
     "output_type": "stream",
     "text": [
      "[*********************100%***********************]  1 of 1 downloaded\n"
     ]
    },
    {
     "data": {
      "text/html": [
       "<div>\n",
       "<style scoped>\n",
       "    .dataframe tbody tr th:only-of-type {\n",
       "        vertical-align: middle;\n",
       "    }\n",
       "\n",
       "    .dataframe tbody tr th {\n",
       "        vertical-align: top;\n",
       "    }\n",
       "\n",
       "    .dataframe thead th {\n",
       "        text-align: right;\n",
       "    }\n",
       "</style>\n",
       "<table border=\"1\" class=\"dataframe\">\n",
       "  <thead>\n",
       "    <tr style=\"text-align: right;\">\n",
       "      <th></th>\n",
       "      <th>Open</th>\n",
       "      <th>High</th>\n",
       "      <th>Low</th>\n",
       "      <th>Close</th>\n",
       "      <th>Adj Close</th>\n",
       "      <th>Volume</th>\n",
       "    </tr>\n",
       "    <tr>\n",
       "      <th>Date</th>\n",
       "      <th></th>\n",
       "      <th></th>\n",
       "      <th></th>\n",
       "      <th></th>\n",
       "      <th></th>\n",
       "      <th></th>\n",
       "    </tr>\n",
       "  </thead>\n",
       "  <tbody>\n",
       "    <tr>\n",
       "      <th>2018-01-02</th>\n",
       "      <td>72.620003</td>\n",
       "      <td>73.529999</td>\n",
       "      <td>72.389999</td>\n",
       "      <td>73.449997</td>\n",
       "      <td>72.930740</td>\n",
       "      <td>14891400</td>\n",
       "    </tr>\n",
       "    <tr>\n",
       "      <th>2018-01-03</th>\n",
       "      <td>73.599998</td>\n",
       "      <td>74.739998</td>\n",
       "      <td>73.519997</td>\n",
       "      <td>74.550003</td>\n",
       "      <td>74.022972</td>\n",
       "      <td>19299600</td>\n",
       "    </tr>\n",
       "    <tr>\n",
       "      <th>2018-01-04</th>\n",
       "      <td>74.500000</td>\n",
       "      <td>75.050003</td>\n",
       "      <td>74.230003</td>\n",
       "      <td>75.000000</td>\n",
       "      <td>74.469788</td>\n",
       "      <td>14306800</td>\n",
       "    </tr>\n",
       "    <tr>\n",
       "      <th>2018-01-05</th>\n",
       "      <td>74.900002</td>\n",
       "      <td>75.029999</td>\n",
       "      <td>74.349998</td>\n",
       "      <td>74.970001</td>\n",
       "      <td>74.440002</td>\n",
       "      <td>14204400</td>\n",
       "    </tr>\n",
       "    <tr>\n",
       "      <th>2018-01-08</th>\n",
       "      <td>74.940002</td>\n",
       "      <td>75.459999</td>\n",
       "      <td>74.739998</td>\n",
       "      <td>75.419998</td>\n",
       "      <td>74.886818</td>\n",
       "      <td>9779200</td>\n",
       "    </tr>\n",
       "  </tbody>\n",
       "</table>\n",
       "</div>"
      ],
      "text/plain": [
       "                 Open       High        Low      Close  Adj Close    Volume\n",
       "Date                                                                       \n",
       "2018-01-02  72.620003  73.529999  72.389999  73.449997  72.930740  14891400\n",
       "2018-01-03  73.599998  74.739998  73.519997  74.550003  74.022972  19299600\n",
       "2018-01-04  74.500000  75.050003  74.230003  75.000000  74.469788  14306800\n",
       "2018-01-05  74.900002  75.029999  74.349998  74.970001  74.440002  14204400\n",
       "2018-01-08  74.940002  75.459999  74.739998  75.419998  74.886818   9779200"
      ]
     },
     "execution_count": 10,
     "metadata": {},
     "output_type": "execute_result"
    }
   ],
   "source": [
    "# used as a stand-alone library \n",
    "data1 = yf.download(\"XLE\", start=\"2018-01-01\", end=\"2018-04-30\")\n",
    "data1.head()"
   ]
  },
  {
   "cell_type": "code",
   "execution_count": 3,
   "metadata": {},
   "outputs": [],
   "source": [
    "yf.pdr_override() # <== that's all it takes "
   ]
  },
  {
   "cell_type": "code",
   "execution_count": 4,
   "metadata": {},
   "outputs": [
    {
     "name": "stdout",
     "output_type": "stream",
     "text": [
      "[*********************100%***********************]  1 of 1 downloaded\n"
     ]
    }
   ],
   "source": [
    "# download dataframe\n",
    "data2 = pdr.get_data_yahoo(\"SPY\", start=\"2017-01-01\", end=\"2017-04-30\")"
   ]
  },
  {
   "cell_type": "code",
   "execution_count": 5,
   "metadata": {},
   "outputs": [
    {
     "name": "stdout",
     "output_type": "stream",
     "text": [
      "[*********************100%***********************]  2 of 2 downloaded\n"
     ]
    }
   ],
   "source": [
    "# download Panel\n",
    "data3 = pdr.get_data_yahoo(['SPY', 'IWM'], start='2017-01-01', end='2017-04-30')"
   ]
  },
  {
   "cell_type": "code",
   "execution_count": 14,
   "metadata": {},
   "outputs": [
    {
     "name": "stdout",
     "output_type": "stream",
     "text": [
      "[*********************100%***********************]  3 of 3 downloaded\n"
     ]
    }
   ],
   "source": [
    "data4 =     pdr.get_data_yahoo(\n",
    "            # tickers list (single tickers accepts a string as well)\n",
    "            tickers = [\"SPY\", 'XLE', 'XLB'],\n",
    "\n",
    "            # start date (YYYY-MM-DD / datetime.datetime object)\n",
    "            # (optional, defaults is 1950-01-01)\n",
    "            start = \"2017-01-01\",\n",
    "\n",
    "            # end date (YYYY-MM-DD / datetime.datetime object)\n",
    "            # (optional, defaults is Today)\n",
    "            end = \"2017-04-30\",\n",
    "\n",
    "            # return a multi-index dataframe\n",
    "            # (optional, default is Panel, which is deprecated)\n",
    "            as_panel = False,\n",
    "\n",
    "            # group by ticker (to access via data['SPY'])\n",
    "            # (optional, default is 'column')\n",
    "            group_by = 'ticker',\n",
    "\n",
    "            # adjust all OHLC automatically\n",
    "            # (optional, default is False)\n",
    "            auto_adjust = True,\n",
    "\n",
    "            # download dividend + stock splits data\n",
    "            # (optional, default is None)\n",
    "            # options are:\n",
    "            #   - True (returns history + actions)\n",
    "            #   - 'only' (actions only)\n",
    "            actions = True,\n",
    "\n",
    "            # How may threads to use?\n",
    "            threads = 1\n",
    "        )"
   ]
  }
 ],
 "metadata": {
  "kernelspec": {
   "display_name": "Python 3",
   "language": "python",
   "name": "python3"
  },
  "language_info": {
   "codemirror_mode": {
    "name": "ipython",
    "version": 3
   },
   "file_extension": ".py",
   "mimetype": "text/x-python",
   "name": "python",
   "nbconvert_exporter": "python",
   "pygments_lexer": "ipython3",
   "version": "3.6.4"
  }
 },
 "nbformat": 4,
 "nbformat_minor": 2
}
